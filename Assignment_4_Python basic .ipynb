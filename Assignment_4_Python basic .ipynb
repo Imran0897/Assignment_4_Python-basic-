{
 "cells": [
  {
   "cell_type": "markdown",
   "id": "674ced65",
   "metadata": {},
   "source": [
    "Ans1.\n",
    "\n",
    "Index bracket ([]) has many uses in python.first,it is used to define \"list literals\" allowing coder to declare a list and its contents in your program.it also used to write expression that evaluate to a single term within a list or a single character in a string.\n",
    "Create a list literal\n",
    "elements =([ \"H\", \"He\", \"Li\", \"B\", \"C\", \"N\", \"O\"])\n",
    "for list and other mutable sequences(but not string),it can overwrite a value at a particular index using the assignment operator(=).\n",
    "Negative numbers inside of index brackets cause Python to start counting from the end of the sequence, instead of from the beginning.\n",
    "print(elements[-2])\n",
    "index brackets are used to retrieve or set the value for a given key in a dictionary.\n",
    "element_names['Be'] = 'beryllium'\n",
    "print(element_names['Be'])"
   ]
  },
  {
   "cell_type": "markdown",
   "id": "fd60d5c3",
   "metadata": {},
   "source": [
    "Ans2."
   ]
  },
  {
   "cell_type": "code",
   "execution_count": 2,
   "id": "df6e99c4",
   "metadata": {},
   "outputs": [
    {
     "data": {
      "text/plain": [
       "[2, 4, 'hello', 8, 10]"
      ]
     },
     "execution_count": 2,
     "metadata": {},
     "output_type": "execute_result"
    }
   ],
   "source": [
    "spam = [2,4,6,8,10]\n",
    "spam[2]=\"hello\"\n",
    "spam"
   ]
  },
  {
   "cell_type": "markdown",
   "id": "7d979892",
   "metadata": {},
   "source": [
    "Ans3."
   ]
  },
  {
   "cell_type": "code",
   "execution_count": 3,
   "id": "91d27d25",
   "metadata": {},
   "outputs": [
    {
     "data": {
      "text/plain": [
       "'d'"
      ]
     },
     "execution_count": 3,
     "metadata": {},
     "output_type": "execute_result"
    }
   ],
   "source": [
    "spam=['a','b','c','d']\n",
    "spam[int(int('3'*2)/11)]"
   ]
  },
  {
   "cell_type": "markdown",
   "id": "5edc9b26",
   "metadata": {},
   "source": [
    "Ans4."
   ]
  },
  {
   "cell_type": "code",
   "execution_count": 6,
   "id": "434dac31",
   "metadata": {},
   "outputs": [
    {
     "data": {
      "text/plain": [
       "'d'"
      ]
     },
     "execution_count": 6,
     "metadata": {},
     "output_type": "execute_result"
    }
   ],
   "source": [
    "spam=['a','b','c','d']\n",
    "spam[-1]"
   ]
  },
  {
   "cell_type": "markdown",
   "id": "e6114176",
   "metadata": {},
   "source": [
    "Ans5."
   ]
  },
  {
   "cell_type": "code",
   "execution_count": 8,
   "id": "88681d09",
   "metadata": {},
   "outputs": [
    {
     "data": {
      "text/plain": [
       "['a', 'b']"
      ]
     },
     "execution_count": 8,
     "metadata": {},
     "output_type": "execute_result"
    }
   ],
   "source": [
    "spam=['a','b','c','d']\n",
    "spam[:2]"
   ]
  },
  {
   "cell_type": "markdown",
   "id": "db52d036",
   "metadata": {},
   "source": [
    "Ans6."
   ]
  },
  {
   "cell_type": "code",
   "execution_count": 11,
   "id": "3ff823e2",
   "metadata": {},
   "outputs": [
    {
     "data": {
      "text/plain": [
       "1"
      ]
     },
     "execution_count": 11,
     "metadata": {},
     "output_type": "execute_result"
    }
   ],
   "source": [
    "bacon = [3.14,'cat',11,'cat',True]\n",
    "bacon.index('cat')"
   ]
  },
  {
   "cell_type": "markdown",
   "id": "b58d4381",
   "metadata": {},
   "source": [
    "Ans7."
   ]
  },
  {
   "cell_type": "code",
   "execution_count": 13,
   "id": "bce66d00",
   "metadata": {},
   "outputs": [
    {
     "data": {
      "text/plain": [
       "[3.14, 'cat', 11, 'cat', True, 99]"
      ]
     },
     "execution_count": 13,
     "metadata": {},
     "output_type": "execute_result"
    }
   ],
   "source": [
    "bacon = [3.14,'cat',11,'cat',True]\n",
    "bacon.append(99)\n",
    "bacon"
   ]
  },
  {
   "cell_type": "markdown",
   "id": "2911a05f",
   "metadata": {},
   "source": [
    "Ans8."
   ]
  },
  {
   "cell_type": "code",
   "execution_count": 14,
   "id": "a79de442",
   "metadata": {},
   "outputs": [
    {
     "data": {
      "text/plain": [
       "[3.14, 11, 'cat', True]"
      ]
     },
     "execution_count": 14,
     "metadata": {},
     "output_type": "execute_result"
    }
   ],
   "source": [
    "bacon = [3.14,'cat',11,'cat',True]\n",
    "bacon.remove('cat')\n",
    "bacon"
   ]
  },
  {
   "cell_type": "markdown",
   "id": "36988533",
   "metadata": {},
   "source": [
    "Ans9."
   ]
  },
  {
   "cell_type": "markdown",
   "id": "8520f783",
   "metadata": {},
   "source": [
    "The operator for list concatenation is +, while the operator for replication is *."
   ]
  },
  {
   "cell_type": "markdown",
   "id": "b33c9e2d",
   "metadata": {},
   "source": [
    "Ans10.\n",
    "\n",
    "The only difference between append() and insert() is that insert function allows us to add a specific element at a specified index of the list unlike append() where we can add the element only at end of the list"
   ]
  },
  {
   "cell_type": "markdown",
   "id": "6680802c",
   "metadata": {},
   "source": [
    "Ans11.\n",
    "\n",
    "The methods for removing items from a list are remove(), pop()"
   ]
  },
  {
   "cell_type": "markdown",
   "id": "0cd991a3",
   "metadata": {},
   "source": [
    "Ans12.\n",
    "\n",
    "List and string both are used to store value /data and both are sequence."
   ]
  },
  {
   "cell_type": "markdown",
   "id": "c20403e9",
   "metadata": {},
   "source": [
    "Ans13.\n",
    "\n",
    "sr.no\t  LIST\t                                                              TUPLE\n",
    "1\tLists are mutable.\t                                          Tuples are immutable\n",
    "2\tImplication of iterations is Time-consuming.\t              The implication of iterations is comparatively Faster\n",
    "3\tThe list is better for performing operations,\t              Tuple data type is appropriate for accessing the elements\n",
    "    such as insertion and deletion.\n",
    "4\tLists consume more memory.\t                                  Tuple consume less memory as compared to the list\n",
    "5\tLists have several built-in methods.                          Tuple does not have many built-in methods.\n",
    "6\tThe unexpected changes and errors are more likely to occur.\t  In tuple, it is hard to take place."
   ]
  },
  {
   "cell_type": "markdown",
   "id": "594a88ea",
   "metadata": {},
   "source": [
    "Ans14.\n",
    "\n",
    "\n",
    "t = (42,)\n",
    "t = tuple"
   ]
  },
  {
   "cell_type": "markdown",
   "id": "8d68c835",
   "metadata": {},
   "source": [
    "Ans15."
   ]
  },
  {
   "cell_type": "code",
   "execution_count": 26,
   "id": "2ad4508a",
   "metadata": {},
   "outputs": [
    {
     "name": "stdout",
     "output_type": "stream",
     "text": [
      "[100, 15, 'ineruon', [15154, 24], {'key1': 25, 'key2': 15}]\n",
      "(12, 'sudh', 'ineuron', [25, 12, 18], {'key1': 5, 'key2': 10})\n"
     ]
    }
   ],
   "source": [
    "l = [12,\"sudh\",\"ineuron\",[25,12,18],{'key1':5,'key2':10}]\n",
    "t=(100,15,\"ineruon\",[15154,24],{'key1':25,'key2':15})\n",
    "print(list(t))\n",
    "print(tuple(l))"
   ]
  },
  {
   "cell_type": "markdown",
   "id": "4173fa82",
   "metadata": {},
   "source": [
    "Ans16."
   ]
  },
  {
   "cell_type": "markdown",
   "id": "6b8ad85b",
   "metadata": {},
   "source": [
    "Ans16.\n",
    "\n",
    "If a variable contain list value then its is not necessarily to be only list but it can be a tuples or a dict."
   ]
  },
  {
   "cell_type": "markdown",
   "id": "0dcd70d9",
   "metadata": {},
   "source": [
    "Ans17.\n",
    "copy.copy() create reference to original object. If we change copied object - it will change the original object. copy.deepcopy() creates new object and does real copying of original object to new one. Changing new deepcopied object doesn't affect original object."
   ]
  }
 ],
 "metadata": {
  "kernelspec": {
   "display_name": "Python 3 (ipykernel)",
   "language": "python",
   "name": "python3"
  },
  "language_info": {
   "codemirror_mode": {
    "name": "ipython",
    "version": 3
   },
   "file_extension": ".py",
   "mimetype": "text/x-python",
   "name": "python",
   "nbconvert_exporter": "python",
   "pygments_lexer": "ipython3",
   "version": "3.9.7"
  }
 },
 "nbformat": 4,
 "nbformat_minor": 5
}
